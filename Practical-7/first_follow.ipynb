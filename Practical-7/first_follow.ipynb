{
  "nbformat": 4,
  "nbformat_minor": 0,
  "metadata": {
    "colab": {
      "provenance": []
    },
    "kernelspec": {
      "name": "python3",
      "display_name": "Python 3"
    },
    "language_info": {
      "name": "python"
    }
  },
  "cells": [
    {
      "cell_type": "code",
      "source": [
        "## fully iterative approach\n",
        "\n",
        "grammar = {\n",
        "    \"S\": [\"ABC\", \"X\"],\n",
        "    \"A\": [\"p\", \"^\"],\n",
        "    \"B\": [\"q\", \"^\"],\n",
        "    \"C\": [\"(S)\", \"^\"],\n",
        "    \"X\": [\"^C\"]\n",
        "}\n",
        "\n",
        "def first_of(symbol):\n",
        "    first_set = set()\n",
        "    stack = [symbol]\n",
        "    visited = set()\n",
        "\n",
        "    while stack:\n",
        "        current = stack.pop()\n",
        "        if current in visited:\n",
        "            continue\n",
        "        visited.add(current)\n",
        "\n",
        "        if current not in grammar:\n",
        "            first_set.add(current)  # Terminal symbol\n",
        "        else:\n",
        "            for production in grammar[current]:\n",
        "                i = 0\n",
        "                while i < len(production):\n",
        "                    char = production[i]\n",
        "                    if char not in grammar:  # Terminal\n",
        "                        first_set.add(char)\n",
        "                        break\n",
        "                    else:\n",
        "                        nullable = False\n",
        "                        stack.append(char)\n",
        "\n",
        "                        # Check if FIRST(char) contains epsilon ('^') without recursion\n",
        "                        for sub_production in grammar[char]:\n",
        "                            if \"^\" in sub_production:  # If any production of 'char' has '^', it can be nullable\n",
        "                                nullable = True\n",
        "                                break  # No need to check further, we found '^'\n",
        "\n",
        "                        if not nullable:  # If the non-terminal is not nullable, stop processing further symbols\n",
        "                            break\n",
        "                    i += 1\n",
        "\n",
        "    return first_set\n",
        "\n",
        "# Example usage:\n",
        "print(first_of(\"X\"))  # Expected output: {'p', 'q', '(', '^'}"
      ],
      "metadata": {
        "id": "OFewuoD_f0Cl",
        "colab": {
          "base_uri": "https://localhost:8080/"
        },
        "outputId": "e6d858e8-50e2-4a7d-911b-d6015ebdc122"
      },
      "execution_count": null,
      "outputs": [
        {
          "output_type": "stream",
          "name": "stdout",
          "text": [
            "{'^'}\n"
          ]
        }
      ]
    },
    {
      "cell_type": "code",
      "source": [
        "## iteration for checking NT contain null or not replaced by recursive upproach.\n",
        "grammar = {\n",
        "    \"S\": [\"ABC\", \"X\"],\n",
        "    \"A\": [\"p\", \"^\"],\n",
        "    \"B\": [\"q\", \"^\"],\n",
        "    \"C\": [\"(S)\", \"^\"],\n",
        "    \"X\": [\"^C\"]\n",
        "}\n",
        "\n",
        "def first_of(symbol):\n",
        "    first_set = set()\n",
        "    stack = [symbol]\n",
        "    visited = set()\n",
        "\n",
        "    while stack:\n",
        "        current = stack.pop()\n",
        "        if current in visited:\n",
        "            continue\n",
        "        visited.add(current)\n",
        "\n",
        "        if current not in grammar:\n",
        "            first_set.add(current)  # Terminal symbol\n",
        "        else:\n",
        "            for production in grammar[current]:\n",
        "                i = 0\n",
        "                while i < len(production):\n",
        "                    char = production[i]\n",
        "                    if char not in grammar:  # Terminal\n",
        "                        first_set.add(char)\n",
        "                        break\n",
        "                    else:\n",
        "                        stack.append(char)\n",
        "                        if \"^\" not in first_of(char):  # Stop if non-terminal does not have epsilon\n",
        "                            break\n",
        "                    i += 1\n",
        "                else:  # If all symbols in production are nullable\n",
        "                    first_set.add(\"^\")\n",
        "\n",
        "    return first_set\n",
        "\n",
        "# Example usage:\n",
        "print(first_of(\"S\"))  # Expected output: {'p', 'q', '(', '^'}\n"
      ],
      "metadata": {
        "colab": {
          "base_uri": "https://localhost:8080/"
        },
        "id": "DQd1zdLt7Lby",
        "outputId": "203e1983-d23c-4389-fa74-d5bc187b05f2"
      },
      "execution_count": 1,
      "outputs": [
        {
          "output_type": "stream",
          "name": "stdout",
          "text": [
            "{'^', 'q', 'p', '('}\n"
          ]
        }
      ]
    },
    {
      "cell_type": "code",
      "source": [
        "def follow_of(symbol):\n",
        "    follow_set = {symbol: set() for symbol in grammar}\n",
        "    follow_set[\"S\"].add(\"$\")  # Start symbol gets EOF\n",
        "\n",
        "    while True:\n",
        "        updated = False\n",
        "        for head, productions in grammar.items():\n",
        "            for production in productions:\n",
        "                trailer = follow_set[head].copy()\n",
        "                for i in range(len(production) - 1, -1, -1):\n",
        "                    char = production[i]\n",
        "                    if char in grammar:  # Non-terminal\n",
        "                        if follow_set[char] | trailer != follow_set[char]:\n",
        "                            follow_set[char] |= trailer\n",
        "                            updated = True\n",
        "                        if \"^\" in first_of(char):\n",
        "                            trailer |= first_of(char) - {\"^\"}\n",
        "                        else:\n",
        "                            trailer = first_of(char)\n",
        "                    else:\n",
        "                        trailer = {char}\n",
        "        if not updated:\n",
        "            break\n",
        "\n",
        "    return follow_set[symbol]\n",
        "\n",
        "# Example usage:\n",
        "print(\"FIRST(X):\", first_of(\"X\"))  # Expected output: {'p', 'q', '(', '^'}\n",
        "print(\"FOLLOW(X):\", follow_of(\"X\"))"
      ],
      "metadata": {
        "colab": {
          "base_uri": "https://localhost:8080/"
        },
        "id": "XvhELOxLPhgz",
        "outputId": "6b8c05fe-59a4-42d1-808b-037a50f140eb"
      },
      "execution_count": 7,
      "outputs": [
        {
          "output_type": "stream",
          "name": "stdout",
          "text": [
            "FIRST(X): {'^'}\n",
            "FOLLOW(X): {')', '$'}\n"
          ]
        }
      ]
    },
    {
      "cell_type": "code",
      "source": [],
      "metadata": {
        "id": "IakpmKwoS8Ar"
      },
      "execution_count": null,
      "outputs": []
    },
    {
      "cell_type": "code",
      "source": [],
      "metadata": {
        "id": "j_TNYen1V15I"
      },
      "execution_count": null,
      "outputs": []
    }
  ]
}