{
  "nbformat": 4,
  "nbformat_minor": 0,
  "metadata": {
    "colab": {
      "provenance": []
    },
    "kernelspec": {
      "name": "python3",
      "display_name": "Python 3"
    },
    "language_info": {
      "name": "python"
    }
  },
  "cells": [
    {
      "cell_type": "code",
      "execution_count": 13,
      "metadata": {
        "colab": {
          "base_uri": "https://localhost:8080/"
        },
        "id": "Yt51rUX2FnXB",
        "outputId": "70428311-521a-416a-9d7f-d9333ed6ef1b"
      },
      "outputs": [
        {
          "output_type": "stream",
          "name": "stdout",
          "text": [
            "Predictive Parsing Table:\n",
            "    a     (  c\n",
            "S  ac  (ac)  c\n",
            "\n",
            "Grammar is NOT LL(1)\n",
            "\n",
            "Parsing Input String: b\n",
            "\n",
            "Validation Result: Invalid string\n"
          ]
        }
      ],
      "source": [
        "import pandas as pd\n",
        "from collections import defaultdict\n",
        "\n",
        "def construct_parsing_table(grammar, first_sets, follow_sets):\n",
        "    parsing_table = defaultdict(dict)\n",
        "    is_ll1 = True\n",
        "\n",
        "    for non_terminal, productions in grammar.items():\n",
        "        for production in productions:\n",
        "            first_set = get_first_of_production(production, first_sets)\n",
        "\n",
        "            for terminal in first_set:\n",
        "                if terminal != 'ε':\n",
        "                    if terminal in parsing_table[non_terminal]:\n",
        "                        is_ll1 = False\n",
        "                    parsing_table[non_terminal][terminal] = production\n",
        "\n",
        "            if 'ε' in first_set:\n",
        "                for terminal in follow_sets[non_terminal]:\n",
        "                    if terminal in parsing_table[non_terminal]:\n",
        "                        is_ll1 = False\n",
        "                    parsing_table[non_terminal][terminal] = 'ε'\n",
        "\n",
        "    return parsing_table, is_ll1\n",
        "\n",
        "def get_first_of_production(production, first_sets):\n",
        "    first = set()\n",
        "    for symbol in production:\n",
        "        if symbol in first_sets:\n",
        "            first |= first_sets[symbol] - {'ε'}\n",
        "            if 'ε' not in first_sets[symbol]:\n",
        "                break\n",
        "        else:\n",
        "            first.add(symbol)\n",
        "            break\n",
        "    else:\n",
        "        first.add('ε')\n",
        "    return first\n",
        "\n",
        "def parse_string(parsing_table, start_symbol, input_string):\n",
        "    stack = [\"$\"]\n",
        "    stack.insert(0, start_symbol)\n",
        "    input_string += \"$\"\n",
        "\n",
        "    index = 0\n",
        "    print(\"\\nParsing Input String:\", input_string[:-1])\n",
        "    while stack:\n",
        "        top = stack.pop(0)\n",
        "        if top == input_string[index]:\n",
        "            index += 1\n",
        "        elif top in parsing_table and input_string[index] in parsing_table[top]:\n",
        "            production = parsing_table[top][input_string[index]]\n",
        "            if production != \"ε\":\n",
        "                stack[:0] = list(production)\n",
        "        else:\n",
        "            return \"Invalid string\"\n",
        "    return \"Valid string\" if index == len(input_string) else \"Invalid string\"\n",
        "\n",
        "# Updated Grammar\n",
        "grammar = {\n",
        "    'S': [\"abc\", \"ac\", \"(abc)\", \"c\", \"(ac)\"]\n",
        "}\n",
        "\n",
        "first_sets = {\n",
        "    'S': {'a', '(', 'c'}\n",
        "}\n",
        "\n",
        "follow_sets = {\n",
        "    'S': {'$', ')'}\n",
        "}\n",
        "\n",
        "parsing_table, is_ll1 = construct_parsing_table(grammar, first_sets, follow_sets)\n",
        "\n",
        "df = pd.DataFrame(parsing_table).fillna(\"-\")\n",
        "df = df.T  # Transpose to align properly\n",
        "print(\"Predictive Parsing Table:\")\n",
        "print(df.to_string())\n",
        "print(\"\\nGrammar is LL(1)\" if is_ll1 else \"\\nGrammar is NOT LL(1)\")\n",
        "\n",
        "input_string = \"b\"\n",
        "print(\"\\nValidation Result:\", parse_string(parsing_table, 'S', input_string))\n"
      ]
    },
    {
      "cell_type": "code",
      "source": [],
      "metadata": {
        "id": "Xjod4rAuFt07"
      },
      "execution_count": null,
      "outputs": []
    }
  ]
}