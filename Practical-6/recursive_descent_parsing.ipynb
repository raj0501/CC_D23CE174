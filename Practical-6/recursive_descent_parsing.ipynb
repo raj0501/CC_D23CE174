{
  "nbformat": 4,
  "nbformat_minor": 0,
  "metadata": {
    "colab": {
      "provenance": []
    },
    "kernelspec": {
      "name": "python3",
      "display_name": "Python 3"
    },
    "language_info": {
      "name": "python"
    }
  },
  "cells": [
    {
      "cell_type": "markdown",
      "source": [
        "#Trial 1"
      ],
      "metadata": {
        "id": "p_afMQqv44C6"
      }
    },
    {
      "cell_type": "code",
      "execution_count": null,
      "metadata": {
        "id": "DyTlE3ubsiOR"
      },
      "outputs": [],
      "source": [
        "# S -> cAd\n",
        "# A -> ab | a\n",
        "\n",
        "# string =  c a d"
      ]
    },
    {
      "cell_type": "code",
      "source": [
        "string = ['c','a','b','d','d','$']\n",
        "ip = 0\n",
        "\n",
        "def A():\n",
        "  global string\n",
        "  global ip\n",
        "\n",
        "  if string[ip] == 'a':\n",
        "    ip = ip + 1\n",
        "    print(f\"ip - 2: {ip}\")\n",
        "    if string[ip] == 'b':\n",
        "      ip = ip + 1\n",
        "      print(f\"ip - 3: {ip}\")\n",
        "      return ip\n",
        "    else:\n",
        "      ip = ip - 1\n",
        "      print(f\"ip - 4: {ip}\")\n",
        "      if string[ip] == 'a':\n",
        "        ip = ip + 1\n",
        "        print(f\"ip - 5: {ip}\")\n",
        "        return ip\n",
        "\n",
        "\n",
        "\n",
        "\n",
        "def S():\n",
        "  global string\n",
        "  global ip\n",
        "\n",
        "  if string[ip] == 'c':\n",
        "    ip = ip + 1\n",
        "    print(f\"ip -1: {ip}\")\n",
        "    left_off = A()\n",
        "    print(f\"ip - 3: {left_off}\")\n",
        "    if string[left_off] == 'd':\n",
        "      if string[left_off + 1] == '$':\n",
        "        print(\"pass\")\n",
        "\n",
        "  else:\n",
        "    print(\"not pass\")\n",
        "\n",
        "if __name__ == \"__main__\":\n",
        "  S()"
      ],
      "metadata": {
        "colab": {
          "base_uri": "https://localhost:8080/"
        },
        "id": "nGRMZsM-s-Q2",
        "outputId": "5caa7ac5-b0d2-4ab3-9923-12ef0851bc6c"
      },
      "execution_count": null,
      "outputs": [
        {
          "output_type": "stream",
          "name": "stdout",
          "text": [
            "ip -1: 1\n",
            "ip - 2: 2\n",
            "ip - 3: 3\n",
            "ip - 3: 3\n"
          ]
        }
      ]
    },
    {
      "cell_type": "markdown",
      "source": [
        "#Trial 2"
      ],
      "metadata": {
        "id": "dsyoza3X47s8"
      }
    },
    {
      "cell_type": "code",
      "source": [
        "# against the given grammar.\n",
        "# S → ( L ) | a\n",
        "# L → S L’\n",
        "# L’ → , S L’ | ε"
      ],
      "metadata": {
        "id": "uns3WxmYygIM"
      },
      "execution_count": null,
      "outputs": []
    },
    {
      "cell_type": "code",
      "source": [
        "# string = ['(','(','a',',','a',')',',','a',',','(','a',',','(','a',',','a',')',')',')','$']\n",
        "string = ['(','a',',',',','(','a',')',')','$']\n",
        "ip = 0\n",
        "\n",
        "def S():\n",
        "  global string\n",
        "  global ip\n",
        "\n",
        "  if string[ip] == '(':\n",
        "    ip = ip + 1\n",
        "    L()\n",
        "    if string[ip] == ')':\n",
        "      ip = ip + 1\n",
        "      if string[ip] == '$':\n",
        "        print(\"pass\")\n",
        "\n",
        "  elif string[ip] == 'a':\n",
        "    ip = ip + 1\n",
        "    if string[ip] == '$':\n",
        "      print(\"pass\")\n",
        "\n",
        "  else:\n",
        "    print(\"not pass\")\n",
        "    return\n",
        "\n",
        "def L():\n",
        "  global string\n",
        "  global ip\n",
        "\n",
        "  S()\n",
        "  L_()\n",
        "\n",
        "def L_():\n",
        "  global string\n",
        "  global ip\n",
        "\n",
        "  if string[ip] == ',':\n",
        "    ip = ip + 1\n",
        "    S()\n",
        "    L_()\n",
        "\n",
        "  else:\n",
        "    if string[ip] == '$':\n",
        "      print(\"pass\")\n",
        "\n",
        "if __name__ == \"__main__\":\n",
        "  S()"
      ],
      "metadata": {
        "colab": {
          "base_uri": "https://localhost:8080/"
        },
        "id": "qimkZcvnrcTt",
        "outputId": "1ca3ec6e-eab0-4644-b02f-c32cb937ab5d"
      },
      "execution_count": null,
      "outputs": [
        {
          "output_type": "stream",
          "name": "stdout",
          "text": [
            "None\n"
          ]
        }
      ]
    },
    {
      "cell_type": "markdown",
      "source": [
        "# Main Program"
      ],
      "metadata": {
        "id": "TVi1zwJH4-Lw"
      }
    },
    {
      "cell_type": "code",
      "source": [
        "## Main Code\n",
        "class RecursiveDescentParser:\n",
        "    def __init__(self, input_str):\n",
        "        self.input = input_str\n",
        "        self.index = 0\n",
        "\n",
        "    def current_char(self):\n",
        "        if self.index < len(self.input):\n",
        "            return self.input[self.index]\n",
        "        return None\n",
        "\n",
        "    def consume(self):\n",
        "        self.index += 1\n",
        "\n",
        "    def parse_S(self):\n",
        "        if self.current_char() == '(':\n",
        "            self.consume()\n",
        "            if self.parse_L():\n",
        "                if self.current_char() == ')':\n",
        "                    self.consume()\n",
        "                    return True\n",
        "            return False\n",
        "        elif self.current_char() == 'a':\n",
        "            self.consume()\n",
        "            return True\n",
        "        return False\n",
        "\n",
        "    def parse_L(self):\n",
        "        if self.parse_S():\n",
        "            return self.parse_L_prime()\n",
        "        return False\n",
        "\n",
        "    def parse_L_prime(self):\n",
        "        if self.current_char() == ',':\n",
        "            self.consume()\n",
        "            if self.parse_S():\n",
        "                return self.parse_L_prime()\n",
        "            return False\n",
        "        return True\n",
        "\n",
        "    def validate(self):\n",
        "        result = self.parse_S()\n",
        "        return result and (self.index == len(self.input))\n",
        "\n",
        "if __name__ == \"__main__\":\n",
        "    input_str = input(\"Enter a string: \")\n",
        "    parser = RecursiveDescentParser(input_str)\n",
        "\n",
        "    if parser.validate():\n",
        "        print(\"Valid string\")\n",
        "    else:\n",
        "        print(\"Invalid string\")"
      ],
      "metadata": {
        "id": "dibaNcy_4XG0",
        "colab": {
          "base_uri": "https://localhost:8080/"
        },
        "outputId": "4106ecb8-0d87-48a2-a84b-08ea7d1e7b62"
      },
      "execution_count": 10,
      "outputs": [
        {
          "output_type": "stream",
          "name": "stdout",
          "text": [
            "Enter a string: (a,a),a\n",
            "Invalid string\n"
          ]
        }
      ]
    }
  ]
}