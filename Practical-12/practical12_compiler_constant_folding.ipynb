{
  "nbformat": 4,
  "nbformat_minor": 0,
  "metadata": {
    "colab": {
      "provenance": []
    },
    "kernelspec": {
      "name": "python3",
      "display_name": "Python 3"
    },
    "language_info": {
      "name": "python"
    }
  },
  "cells": [
    {
      "cell_type": "code",
      "source": [
        "import re\n",
        "import sympy as sp\n",
        "\n",
        "def optimize_expression(expression):\n",
        "    tokens = re.findall(r'\\d+|[a-zA-Z]+|[+\\-*/()]', expression)\n",
        "    new_expr = []\n",
        "    temp_stack = []\n",
        "\n",
        "    for token in tokens:\n",
        "        if token.isdigit():\n",
        "            temp_stack.append(token)\n",
        "        elif token in '+-*/':\n",
        "            while len(temp_stack) >= 2 and temp_stack[-1].isdigit() and temp_stack[-2].isdigit():\n",
        "                b = temp_stack.pop()\n",
        "                a = temp_stack.pop()\n",
        "                result = str(eval(a + token + b))\n",
        "                temp_stack.append(result)\n",
        "            temp_stack.append(token)\n",
        "        else:\n",
        "            while len(temp_stack) >= 3 and temp_stack[-2] in '+-*/' and temp_stack[-1].isdigit() and temp_stack[-3].isdigit():\n",
        "                b = temp_stack.pop()\n",
        "                op = temp_stack.pop()\n",
        "                a = temp_stack.pop()\n",
        "                result = str(eval(a + op + b))\n",
        "                temp_stack.append(result)\n",
        "            temp_stack.append(token)\n",
        "\n",
        "    new_expr = ''.join(temp_stack)\n",
        "    return new_expr\n",
        "\n",
        "def generate_quadruples(expression):\n",
        "    tokens = re.findall(r'\\d+|[a-zA-Z]+|[+\\-*/()]', expression)\n",
        "    stack = []\n",
        "    temp_counter = 1\n",
        "    quadruples = []\n",
        "\n",
        "    for token in tokens:\n",
        "        if token.isdigit() or token.isalpha():\n",
        "            stack.append(token)\n",
        "        elif token in '+-*/':\n",
        "            if len(stack) >= 2:\n",
        "                b = stack.pop()\n",
        "                a = stack.pop()\n",
        "                temp_var = f't{temp_counter}'\n",
        "                quadruples.append((token, a, b, temp_var))\n",
        "                stack.append(temp_var)\n",
        "                temp_counter += 1\n",
        "\n",
        "    return quadruples\n",
        "\n",
        "def display_quadruples(quadruples):\n",
        "    print(\"\\nQuadruple Representation:\")\n",
        "    print(\"Operator | Operand 1 | Operand 2 | Result\")\n",
        "    print(\"---------------------------------------\")\n",
        "    for op, op1, op2, res in quadruples:\n",
        "        print(f\"{op:^8} | {op1:^9} | {op2:^9} | {res}\")\n",
        "\n",
        "if __name__ == \"__main__\":\n",
        "    input_expressions = [\"5 + x - 3 * 2\",\n",
        "                         \"2 + 3 * 4 - 1\",\n",
        "                         \"x + (3 * 5) - 2\",\n",
        "                         \"(22 / 7) * r * r\"]\n",
        "    for input_expression in input_expressions:\n",
        "      print(\"Original Expression:\", input_expression)\n",
        "      optimized_expression = optimize_expression(input_expression)\n",
        "      print(\"Optimized Expression:\", optimized_expression)\n",
        "      quadruples = generate_quadruples(optimized_expression)\n",
        "      display_quadruples(quadruples)\n"
      ],
      "metadata": {
        "colab": {
          "base_uri": "https://localhost:8080/"
        },
        "id": "bVxvBPR7RdgA",
        "outputId": "39ea63c4-4748-40b6-85f7-6a8808c4e310"
      },
      "execution_count": null,
      "outputs": [
        {
          "output_type": "stream",
          "name": "stdout",
          "text": [
            "Original Expression: 5 + x - 3 * 2\n",
            "Optimized Expression: 5+x-3*2\n",
            "\n",
            "Quadruple Representation:\n",
            "Operator | Operand 1 | Operand 2 | Result\n",
            "---------------------------------------\n",
            "   -     |     5     |     x     | t1\n",
            "   *     |    t1     |     3     | t2\n",
            "Original Expression: 2 + 3 * 4 - 1\n",
            "Optimized Expression: 2+3*4-1\n",
            "\n",
            "Quadruple Representation:\n",
            "Operator | Operand 1 | Operand 2 | Result\n",
            "---------------------------------------\n",
            "   *     |     2     |     3     | t1\n",
            "   -     |    t1     |     4     | t2\n",
            "Original Expression: x + (3 * 5) - 2\n",
            "Optimized Expression: x+(15)-2\n",
            "\n",
            "Quadruple Representation:\n",
            "Operator | Operand 1 | Operand 2 | Result\n",
            "---------------------------------------\n",
            "   -     |     x     |    15     | t1\n",
            "Original Expression: (22 / 7) * r * r\n",
            "Optimized Expression: (3.142857142857143)*r*r\n",
            "\n",
            "Quadruple Representation:\n",
            "Operator | Operand 1 | Operand 2 | Result\n",
            "---------------------------------------\n",
            "   *     |     3     | 142857142857143 | t1\n",
            "   *     |    t1     |     r     | t2\n"
          ]
        }
      ]
    },
    {
      "cell_type": "code",
      "source": [],
      "metadata": {
        "id": "AbM_f-nVRiDA"
      },
      "execution_count": null,
      "outputs": []
    }
  ]
}